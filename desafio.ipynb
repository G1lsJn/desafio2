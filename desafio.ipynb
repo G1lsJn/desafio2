{
 "cells": [
  {
   "cell_type": "markdown",
   "metadata": {},
   "source": [
    "1) Dado a sequência de Fibonacci, onde se inicia por 0 e 1 e o próximo valor sempre será a soma dos 2 valores anteriores (exemplo: 0, 1, 1, 2, 3, 5, 8, 13, 21, 34...), escreva um programa na linguagem que desejar onde, informado um número, ele calcule a sequência de Fibonacci e retorne uma mensagem avisando se o número informado pertence ou não a sequência.\n",
    "\n",
    "IMPORTANTE: Esse número pode ser informado através de qualquer entrada de sua preferência ou pode ser previamente definido no código;"
   ]
  },
  {
   "cell_type": "code",
   "execution_count": 2,
   "metadata": {},
   "outputs": [
    {
     "name": "stdout",
     "output_type": "stream",
     "text": [
      "O número 34 pertence à sequência de Fibonacci.\n"
     ]
    }
   ],
   "source": [
    "def fibonacci(n):\n",
    "    a, b = 0, 1\n",
    "    while a <= n:\n",
    "        if a == n:\n",
    "            return True\n",
    "        a, b = b, a + b\n",
    "    return False\n",
    "\n",
    "# Entrada do número\n",
    "numero = int(input(\"Informe um número: \"))\n",
    "\n",
    "# Verificação se o número pertence à sequência de Fibonacci\n",
    "if fibonacci(numero):\n",
    "    print(f\"O número {numero} pertence à sequência de Fibonacci.\")\n",
    "else:\n",
    "    print(f\"O número {numero} NÃO pertence à sequência de Fibonacci.\")\n"
   ]
  },
  {
   "cell_type": "markdown",
   "metadata": {},
   "source": [
    "2) Escreva um programa que verifique, em uma string, a existência da letra ‘a’, seja maiúscula ou minúscula, além de informar a quantidade de vezes em que ela ocorre.\n",
    "\n",
    "IMPORTANTE: Essa string pode ser informada através de qualquer entrada de sua preferência ou pode ser previamente definida no código;\n",
    "\n"
   ]
  },
  {
   "cell_type": "code",
   "execution_count": 4,
   "metadata": {},
   "outputs": [
    {
     "name": "stdout",
     "output_type": "stream",
     "text": [
      "A letra 'a' aparece 4 vezes na string.\n"
     ]
    }
   ],
   "source": [
    "def contar_a(texto):\n",
    "    count = 0\n",
    "    for char in texto:\n",
    "        if char.lower() == 'a':\n",
    "            count += 1\n",
    "    return count\n",
    "\n",
    "# Entrada da string\n",
    "texto = input(\"Informe uma string: \")\n",
    "\n",
    "# Contagem das letras 'a'\n",
    "quantidade = contar_a(texto)\n",
    "\n",
    "print(f\"A letra 'a' aparece {quantidade} vezes na string.\")\n"
   ]
  },
  {
   "cell_type": "markdown",
   "metadata": {},
   "source": [
    "3) Observe o trecho de código abaixo: int INDICE = 12, SOMA = 0, K = 1; enquanto K < INDICE faça { K = K + 1; SOMA = SOMA + K; } imprimir(SOMA);\n",
    "\n",
    "Ao final do processamento, qual será o valor da variável SOMA?"
   ]
  },
  {
   "cell_type": "code",
   "execution_count": 5,
   "metadata": {},
   "outputs": [
    {
     "name": "stdout",
     "output_type": "stream",
     "text": [
      "77\n"
     ]
    }
   ],
   "source": [
    "INDICE = 12\n",
    "SOMA = 0\n",
    "K = 1\n",
    "\n",
    "while K < INDICE: \n",
    "    K = K + 1\n",
    "    SOMA = SOMA + K\n",
    "\n",
    "print(SOMA)\n"
   ]
  },
  {
   "cell_type": "markdown",
   "metadata": {},
   "source": [
    "O valor da soma será 77"
   ]
  },
  {
   "cell_type": "markdown",
   "metadata": {},
   "source": [
    "4) Descubra a lógica e complete o próximo elemento: <br>\n",
    "    a) 1, 3, 5, 7, ___ <br>\n",
    "    b) 2, 4, 8, 16, 32, 64, ____ <br>\n",
    "    c) 0, 1, 4, 9, 16, 25, 36, ____ <br>\n",
    "    d) 4, 16, 36, 64, ____ <br>\n",
    "    e) 1, 1, 2, 3, 5, 8, ____ <br>\n",
    "    f) 2,10, 12, 16, 17, 18, 19, ____"
   ]
  },
  {
   "cell_type": "markdown",
   "metadata": {},
   "source": [
    "a) A sequência avança de 2 em 2. <br>\n",
    "b) Cada número é o dobro do anterior. <br>\n",
    "c) Sequência de quadrados perfeitos (0², 1², 2², 3²...). <br>\n",
    "d) Sequência de quadrados perfeitos de números pares (2², 4², 6²...). <br>\n",
    "e) Sequência de Fibonacci (cada número é a soma dos dois anteriores). <br>\n",
    "f) A sequência intercala números que aumentam de forma contínua e números que possuem o dígito \"2\". O próximo número lógico seria 20, que contém o dígito \"2\"."
   ]
  },
  {
   "cell_type": "markdown",
   "metadata": {},
   "source": [
    "5) Você está em uma sala com três interruptores, cada um conectado a uma lâmpada em salas diferentes. Você não pode ver as lâmpadas da sala em que está, mas pode ligar e desligar os interruptores quantas vezes quiser. Seu objetivo é descobrir qual interruptor controla qual lâmpada. Como você faria para descobrir, usando apenas duas idas até uma das salas das lâmpadas, qual interruptor controla cada lâmpada?  "
   ]
  },
  {
   "cell_type": "markdown",
   "metadata": {},
   "source": [
    "Primeiro, ligue o primeiro interruptor e deixe-o ligado por alguns minutos. Depois, desligue o primeiro interruptor, ligue o segundo, e vá até a sala das lâmpadas. Lá, você verá três condições: a lâmpada acesa está conectada ao segundo interruptor; a lâmpada apagada, mas quente, está conectada ao primeiro interruptor (que foi ligado e desligado); e a lâmpada apagada e fria está conectada ao terceiro interruptor, que nunca foi ligado."
   ]
  }
 ],
 "metadata": {
  "kernelspec": {
   "display_name": "Python 3",
   "language": "python",
   "name": "python3"
  },
  "language_info": {
   "codemirror_mode": {
    "name": "ipython",
    "version": 3
   },
   "file_extension": ".py",
   "mimetype": "text/x-python",
   "name": "python",
   "nbconvert_exporter": "python",
   "pygments_lexer": "ipython3",
   "version": "3.11.9"
  }
 },
 "nbformat": 4,
 "nbformat_minor": 2
}
